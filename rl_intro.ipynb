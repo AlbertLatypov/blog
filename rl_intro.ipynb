{
 "cells": [
  {
   "cell_type": "markdown",
   "metadata": {},
   "source": [
    "Grid from sutton, page 163"
   ]
  },
  {
   "cell_type": "code",
   "execution_count": 1,
   "metadata": {},
   "outputs": [],
   "source": [
    "%matplotlib inline\n",
    "import numpy as np\n",
    "import pandas as pd\n",
    "import matplotlib.pyplot as plt"
   ]
  },
  {
   "cell_type": "code",
   "execution_count": 17,
   "metadata": {},
   "outputs": [],
   "source": [
    "class GridWorld:\n",
    "    def __init__(self):\n",
    "        self.player = None\n",
    "        self._create_grid()\n",
    "        \n",
    "    def _create_grid(self):\n",
    "        self.grid = 20 * np.ones((4, 12))\n",
    "        self.grid[-1, 1:11] = 0\n",
    "        self.grid[-1, -1] = 4\n",
    "        \n",
    "    def reset(self):\n",
    "        self.player = (3, 0)        \n",
    "        return self._position_to_id(self.player)\n",
    "    \n",
    "    def step(self, action):\n",
    "        # Possible actions\n",
    "        if action == 0 and self.player[0] > 0:\n",
    "            self.player = (self.player[0] - 1, self.player[1])\n",
    "        if action == 1 and self.player[0] < 3:\n",
    "            self.player = (self.player[0] + 1, self.player[1])\n",
    "        if action == 2 and self.player[1] < 11:\n",
    "            self.player = (self.player[0], self.player[1] + 1)\n",
    "        if action == 3 and self.player[1] > 0:\n",
    "            self.player = (self.player[0], self.player[1] - 1)\n",
    "            \n",
    "        # Rules\n",
    "        if self.grid[self.player] == 0:\n",
    "            reward = -100\n",
    "            done = True\n",
    "            self.player = (3, 0)\n",
    "        elif self.grid[self.player] == 4:\n",
    "            reward = 0\n",
    "            done = True\n",
    "        else:\n",
    "            reward = -1\n",
    "            done = False\n",
    "            \n",
    "        return self._position_to_id(self.player), reward, done\n",
    "    \n",
    "    def _position_to_id(self, pos):\n",
    "        ''' Maps a position in x,y coordinates to a unique ID '''\n",
    "        return self.player[0] * 12 + self.player[1]\n",
    "        \n",
    "    def render(self):\n",
    "        assert self.player is not None, 'You first need to call .reset()'\n",
    "        grid = self.grid.copy()\n",
    "        grid[self.player] = 8\n",
    "        \n",
    "        plt.imshow(grid, cmap='tab20c', interpolation='nearest')\n",
    "        plt.pause(0.1)"
   ]
  },
  {
   "cell_type": "code",
   "execution_count": 18,
   "metadata": {},
   "outputs": [],
   "source": [
    "learning_rate = 0.1"
   ]
  },
  {
   "cell_type": "code",
   "execution_count": 19,
   "metadata": {},
   "outputs": [],
   "source": [
    "UP = 0\n",
    "DOWN = 1\n",
    "RIGHT = 2\n",
    "LEFT = 3"
   ]
  },
  {
   "cell_type": "code",
   "execution_count": 20,
   "metadata": {},
   "outputs": [],
   "source": [
    "env = GridWorld()"
   ]
  },
  {
   "cell_type": "markdown",
   "metadata": {},
   "source": [
    "We need a table of values that maps each state-action pair to a value, we'll create such table and initialize all values to zero (or to a random value)"
   ]
  },
  {
   "cell_type": "code",
   "execution_count": 6,
   "metadata": {},
   "outputs": [],
   "source": [
    "# The number of states in simply the number of \"squares\" in our grid world, in this case 4 * 12\n",
    "num_states = 4 * 12\n",
    "# We have 4 possible actions, up, down, right and left\n",
    "num_actions = 4\n",
    "\n",
    "q_values = np.zeros((num_states, num_actions))"
   ]
  },
  {
   "cell_type": "code",
   "execution_count": 7,
   "metadata": {},
   "outputs": [],
   "source": [
    "df = pd.DataFrame(q_values, columns=[' up ', 'down', 'right', 'left'])\n",
    "df.index.name = 'States'"
   ]
  },
  {
   "cell_type": "code",
   "execution_count": 8,
   "metadata": {},
   "outputs": [
    {
     "data": {
      "text/html": [
       "<div>\n",
       "<style scoped>\n",
       "    .dataframe tbody tr th:only-of-type {\n",
       "        vertical-align: middle;\n",
       "    }\n",
       "\n",
       "    .dataframe tbody tr th {\n",
       "        vertical-align: top;\n",
       "    }\n",
       "\n",
       "    .dataframe thead th {\n",
       "        text-align: right;\n",
       "    }\n",
       "</style>\n",
       "<table border=\"1\" class=\"dataframe\">\n",
       "  <thead>\n",
       "    <tr style=\"text-align: right;\">\n",
       "      <th></th>\n",
       "      <th>up</th>\n",
       "      <th>down</th>\n",
       "      <th>right</th>\n",
       "      <th>left</th>\n",
       "    </tr>\n",
       "    <tr>\n",
       "      <th>States</th>\n",
       "      <th></th>\n",
       "      <th></th>\n",
       "      <th></th>\n",
       "      <th></th>\n",
       "    </tr>\n",
       "  </thead>\n",
       "  <tbody>\n",
       "    <tr>\n",
       "      <th>0</th>\n",
       "      <td>0.0</td>\n",
       "      <td>0.0</td>\n",
       "      <td>0.0</td>\n",
       "      <td>0.0</td>\n",
       "    </tr>\n",
       "    <tr>\n",
       "      <th>1</th>\n",
       "      <td>0.0</td>\n",
       "      <td>0.0</td>\n",
       "      <td>0.0</td>\n",
       "      <td>0.0</td>\n",
       "    </tr>\n",
       "    <tr>\n",
       "      <th>2</th>\n",
       "      <td>0.0</td>\n",
       "      <td>0.0</td>\n",
       "      <td>0.0</td>\n",
       "      <td>0.0</td>\n",
       "    </tr>\n",
       "    <tr>\n",
       "      <th>3</th>\n",
       "      <td>0.0</td>\n",
       "      <td>0.0</td>\n",
       "      <td>0.0</td>\n",
       "      <td>0.0</td>\n",
       "    </tr>\n",
       "    <tr>\n",
       "      <th>4</th>\n",
       "      <td>0.0</td>\n",
       "      <td>0.0</td>\n",
       "      <td>0.0</td>\n",
       "      <td>0.0</td>\n",
       "    </tr>\n",
       "  </tbody>\n",
       "</table>\n",
       "</div>"
      ],
      "text/plain": [
       "         up   down  right  left\n",
       "States                         \n",
       "0        0.0   0.0    0.0   0.0\n",
       "1        0.0   0.0    0.0   0.0\n",
       "2        0.0   0.0    0.0   0.0\n",
       "3        0.0   0.0    0.0   0.0\n",
       "4        0.0   0.0    0.0   0.0"
      ]
     },
     "execution_count": 8,
     "metadata": {},
     "output_type": "execute_result"
    }
   ],
   "source": [
    "df.head()"
   ]
  },
  {
   "cell_type": "code",
   "execution_count": 9,
   "metadata": {},
   "outputs": [],
   "source": [
    "# Maybe talk on why we need exploration?"
   ]
  },
  {
   "cell_type": "code",
   "execution_count": 10,
   "metadata": {},
   "outputs": [],
   "source": [
    "def egreedy_policy(q_values, state, epsilon=0.1):\n",
    "    ''' \n",
    "    Choose an action based on a epsilon greedy policy.    \n",
    "    A random action is selected with epsilon probability, else select the best action.    \n",
    "    '''\n",
    "    if np.random.random() < epsilon:\n",
    "        return np.random.choice(4)\n",
    "    else:\n",
    "        return np.argmax(q_values[state])"
   ]
  },
  {
   "cell_type": "code",
   "execution_count": 11,
   "metadata": {},
   "outputs": [],
   "source": [
    "q_values = np.zeros((num_states, num_actions))\n",
    "rewards = []\n",
    "\n",
    "for _ in range(100):\n",
    "    ep_rewards = []\n",
    "    for _ in range(500):\n",
    "        state = env.reset()    \n",
    "        done = False\n",
    "        reward_sum = 0\n",
    "\n",
    "        while not done:\n",
    "            # Choose action        \n",
    "            action = egreedy_policy(q_values, state, 0.1)\n",
    "            # Do the action\n",
    "            next_state, reward, done = env.step(action)\n",
    "            reward_sum += reward\n",
    "            # Update q_values        \n",
    "            td_target = reward + np.max(q_values[next_state])\n",
    "            td_error = td_target - q_values[state][action]\n",
    "            q_values[state][action] += learning_rate * td_error\n",
    "            # Update state\n",
    "            state = next_state\n",
    "\n",
    "        ep_rewards.append(reward_sum)\n",
    "    \n",
    "    rewards.append(ep_rewards)"
   ]
  },
  {
   "cell_type": "code",
   "execution_count": 12,
   "metadata": {},
   "outputs": [
    {
     "data": {
      "text/plain": [
       "[<matplotlib.lines.Line2D at 0x7fb1ce44bdd8>]"
      ]
     },
     "execution_count": 12,
     "metadata": {},
     "output_type": "execute_result"
    },
    {
     "data": {
      "image/png": "[encoded data removed]",
      "text/plain": [
       "<matplotlib.figure.Figure at 0x7fb1ce44b0b8>"
      ]
     },
     "metadata": {},
     "output_type": "display_data"
    }
   ],
   "source": [
    "avg_rewards = np.mean(rewards, axis=0)\n",
    "mean_reward = [np.mean(avg_rewards)] * len(avg_rewards)\n",
    "\n",
    "fig, ax = plt.subplots()\n",
    "ax.set_xlabel('Episodes')\n",
    "ax.set_ylabel('Rewards')\n",
    "ax.plot(avg_rewards)\n",
    "ax.plot(mean_reward, 'g--')"
   ]
  },
  {
   "cell_type": "code",
   "execution_count": 13,
   "metadata": {},
   "outputs": [
    {
     "data": {
      "text/plain": [
       "<matplotlib.image.AxesImage at 0x7fb1c7776630>"
      ]
     },
     "execution_count": 13,
     "metadata": {},
     "output_type": "execute_result"
    },
    {
     "data": {
      "image/png": "[encoded data removed]",
      "text/plain": [
       "<matplotlib.figure.Figure at 0x7fb1ce4a6940>"
      ]
     },
     "metadata": {},
     "output_type": "display_data"
    }
   ],
   "source": [
    "# The agent never gets to take an action on the cliff or in the goal,\n",
    "# that's why their values are unchanged\n",
    "plt.imshow(np.max(q_values, axis=1).reshape(4, 12), cmap='Greens')"
   ]
  },
  {
   "cell_type": "code",
   "execution_count": 12,
   "metadata": {},
   "outputs": [],
   "source": [
    "q_values_sarsa = np.zeros((num_states, num_actions))\n",
    "rewards = []\n",
    "\n",
    "for _ in range(100):\n",
    "    ep_rewards = []\n",
    "    for _ in range(500):\n",
    "        state = env.reset()    \n",
    "        done = False\n",
    "        reward_sum = 0\n",
    "        # Choose action        \n",
    "        action = egreedy_policy(q_values_sarsa, state, 0.1)\n",
    "\n",
    "        while not done:        \n",
    "            # Do the action\n",
    "            next_state, reward, done = env.step(action)\n",
    "            reward_sum += reward\n",
    "            \n",
    "            # Choose next action\n",
    "            next_action = egreedy_policy(q_values_sarsa, next_state, 0.1)\n",
    "            # Next q value is the value of the next action\n",
    "            td_target = reward + q_values_sarsa[next_state][next_action]\n",
    "            td_error = td_target - q_values_sarsa[state][action]\n",
    "            # Update q value\n",
    "            q_values_sarsa[state][action] += learning_rate * td_error\n",
    "\n",
    "            # Update state and action        \n",
    "            state = next_state\n",
    "            action = next_action\n",
    "\n",
    "        ep_rewards.append(reward_sum)\n",
    "        \n",
    "    rewards.append(ep_rewards)"
   ]
  },
  {
   "cell_type": "code",
   "execution_count": 15,
   "metadata": {
    "scrolled": true
   },
   "outputs": [
    {
     "data": {
      "text/plain": [
       "[<matplotlib.lines.Line2D at 0x7fb1ce304780>]"
      ]
     },
     "execution_count": 15,
     "metadata": {},
     "output_type": "execute_result"
    },
    {
     "data": {
      "image/png": "[encoded data removed]",
      "text/plain": [
       "<matplotlib.figure.Figure at 0x7fb1ce304860>"
      ]
     },
     "metadata": {},
     "output_type": "display_data"
    }
   ],
   "source": [
    "avg_rewards = np.mean(rewards, axis=0)\n",
    "mean_reward = [np.mean(avg_rewards)] * len(avg_rewards)\n",
    "\n",
    "fig, ax = plt.subplots()\n",
    "ax.set_xlabel('Episodes')\n",
    "ax.set_ylabel('Rewards')\n",
    "ax.plot(avg_rewards)\n",
    "ax.plot(mean_reward, 'g--')"
   ]
  },
  {
   "cell_type": "code",
   "execution_count": 27,
   "metadata": {},
   "outputs": [
    {
     "data": {
      "text/plain": [
       "<matplotlib.image.AxesImage at 0x7fb7ab3d45c0>"
      ]
     },
     "execution_count": 27,
     "metadata": {},
     "output_type": "execute_result"
    },
    {
     "data": {
      "image/png": "[encoded data removed]",
      "text/plain": [
       "<matplotlib.figure.Figure at 0x7fb7ab549e48>"
      ]
     },
     "metadata": {},
     "output_type": "display_data"
    }
   ],
   "source": [
    "plt.imshow(np.max(q_values_sarsa, axis=1).reshape(4, 12), cmap='Greens')"
   ]
  },
  {
   "cell_type": "markdown",
   "metadata": {},
   "source": [
    "## Visualization"
   ]
  },
  {
   "cell_type": "markdown",
   "metadata": {},
   "source": [
    "For visualization to work you have to restart the notebook and run:\n",
    "`%matplotlib` instead of `%matplotlib inline`"
   ]
  },
  {
   "cell_type": "code",
   "execution_count": 1,
   "metadata": {},
   "outputs": [
    {
     "name": "stdout",
     "output_type": "stream",
     "text": [
      "Using matplotlib backend: TkAgg\n"
     ]
    }
   ],
   "source": [
    "# Restart notebook and run these imports instead of the ones on top\n",
    "%matplotlib\n",
    "import numpy as np\n",
    "import pandas as pd\n",
    "import matplotlib.pyplot as plt"
   ]
  },
  {
   "cell_type": "code",
   "execution_count": 13,
   "metadata": {},
   "outputs": [],
   "source": [
    "def play(q_values):\n",
    "    state = env.reset()\n",
    "    done = False\n",
    "\n",
    "    while not done:    \n",
    "        env.render()\n",
    "\n",
    "        # Select action\n",
    "        action = egreedy_policy(q_values, state, 0.0)\n",
    "        # Do the action\n",
    "        next_state, reward, done = env.step(action)  \n",
    "\n",
    "        # Update state and action        \n",
    "        state = next_state    \n",
    "\n",
    "    env.render()"
   ]
  },
  {
   "cell_type": "code",
   "execution_count": 15,
   "metadata": {},
   "outputs": [],
   "source": [
    "play(q_values)"
   ]
  },
  {
   "cell_type": "code",
   "execution_count": 25,
   "metadata": {},
   "outputs": [],
   "source": [
    "play(q_values_sarsa)"
   ]
  }
 ],
 "metadata": {
  "kernelspec": {
   "display_name": "Python 3",
   "language": "python",
   "name": "python3"
  },
  "language_info": {
   "codemirror_mode": {
    "name": "ipython",
    "version": 3
   },
   "file_extension": ".py",
   "mimetype": "text/x-python",
   "name": "python",
   "nbconvert_exporter": "python",
   "pygments_lexer": "ipython3",
   "version": "3.6.1"
  }
 },
 "nbformat": 4,
 "nbformat_minor": 2
}
